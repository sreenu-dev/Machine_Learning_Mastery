{
 "cells": [
  {
   "cell_type": "code",
   "execution_count": 1,
   "metadata": {},
   "outputs": [],
   "source": [
    "import pandas as pd"
   ]
  },
  {
   "cell_type": "code",
   "execution_count": 2,
   "metadata": {},
   "outputs": [
    {
     "data": {
      "text/html": [
       "<div>\n",
       "<style scoped>\n",
       "    .dataframe tbody tr th:only-of-type {\n",
       "        vertical-align: middle;\n",
       "    }\n",
       "\n",
       "    .dataframe tbody tr th {\n",
       "        vertical-align: top;\n",
       "    }\n",
       "\n",
       "    .dataframe thead th {\n",
       "        text-align: right;\n",
       "    }\n",
       "</style>\n",
       "<table border=\"1\" class=\"dataframe\">\n",
       "  <thead>\n",
       "    <tr style=\"text-align: right;\">\n",
       "      <th></th>\n",
       "      <th>date</th>\n",
       "      <th>id</th>\n",
       "      <th>category_id</th>\n",
       "      <th>sales</th>\n",
       "      <th>views</th>\n",
       "      <th>price_cost</th>\n",
       "      <th>price_retail</th>\n",
       "    </tr>\n",
       "  </thead>\n",
       "  <tbody>\n",
       "    <tr>\n",
       "      <th>0</th>\n",
       "      <td>2022-02-24</td>\n",
       "      <td>1</td>\n",
       "      <td>3</td>\n",
       "      <td>0</td>\n",
       "      <td>0</td>\n",
       "      <td>0</td>\n",
       "      <td>0</td>\n",
       "    </tr>\n",
       "    <tr>\n",
       "      <th>1</th>\n",
       "      <td>2022-02-25</td>\n",
       "      <td>1</td>\n",
       "      <td>3</td>\n",
       "      <td>0</td>\n",
       "      <td>0</td>\n",
       "      <td>0</td>\n",
       "      <td>0</td>\n",
       "    </tr>\n",
       "    <tr>\n",
       "      <th>2</th>\n",
       "      <td>2022-02-26</td>\n",
       "      <td>1</td>\n",
       "      <td>3</td>\n",
       "      <td>0</td>\n",
       "      <td>0</td>\n",
       "      <td>0</td>\n",
       "      <td>0</td>\n",
       "    </tr>\n",
       "    <tr>\n",
       "      <th>3</th>\n",
       "      <td>2022-02-27</td>\n",
       "      <td>1</td>\n",
       "      <td>3</td>\n",
       "      <td>0</td>\n",
       "      <td>0</td>\n",
       "      <td>0</td>\n",
       "      <td>0</td>\n",
       "    </tr>\n",
       "    <tr>\n",
       "      <th>4</th>\n",
       "      <td>2022-02-28</td>\n",
       "      <td>1</td>\n",
       "      <td>3</td>\n",
       "      <td>0</td>\n",
       "      <td>0</td>\n",
       "      <td>0</td>\n",
       "      <td>0</td>\n",
       "    </tr>\n",
       "    <tr>\n",
       "      <th>...</th>\n",
       "      <td>...</td>\n",
       "      <td>...</td>\n",
       "      <td>...</td>\n",
       "      <td>...</td>\n",
       "      <td>...</td>\n",
       "      <td>...</td>\n",
       "      <td>...</td>\n",
       "    </tr>\n",
       "    <tr>\n",
       "      <th>995</th>\n",
       "      <td>2022-11-14</td>\n",
       "      <td>2</td>\n",
       "      <td>2</td>\n",
       "      <td>0</td>\n",
       "      <td>143</td>\n",
       "      <td>60</td>\n",
       "      <td>78</td>\n",
       "    </tr>\n",
       "    <tr>\n",
       "      <th>996</th>\n",
       "      <td>2022-11-15</td>\n",
       "      <td>2</td>\n",
       "      <td>2</td>\n",
       "      <td>0</td>\n",
       "      <td>249</td>\n",
       "      <td>60</td>\n",
       "      <td>78</td>\n",
       "    </tr>\n",
       "    <tr>\n",
       "      <th>997</th>\n",
       "      <td>2022-11-16</td>\n",
       "      <td>2</td>\n",
       "      <td>2</td>\n",
       "      <td>0</td>\n",
       "      <td>337</td>\n",
       "      <td>60</td>\n",
       "      <td>78</td>\n",
       "    </tr>\n",
       "    <tr>\n",
       "      <th>998</th>\n",
       "      <td>2022-11-17</td>\n",
       "      <td>2</td>\n",
       "      <td>2</td>\n",
       "      <td>0</td>\n",
       "      <td>446</td>\n",
       "      <td>60</td>\n",
       "      <td>78</td>\n",
       "    </tr>\n",
       "    <tr>\n",
       "      <th>999</th>\n",
       "      <td>2022-11-18</td>\n",
       "      <td>2</td>\n",
       "      <td>2</td>\n",
       "      <td>50</td>\n",
       "      <td>394</td>\n",
       "      <td>60</td>\n",
       "      <td>78</td>\n",
       "    </tr>\n",
       "  </tbody>\n",
       "</table>\n",
       "<p>1000 rows × 7 columns</p>\n",
       "</div>"
      ],
      "text/plain": [
       "           date  id  category_id  sales  views  price_cost  price_retail\n",
       "0    2022-02-24   1            3      0      0           0             0\n",
       "1    2022-02-25   1            3      0      0           0             0\n",
       "2    2022-02-26   1            3      0      0           0             0\n",
       "3    2022-02-27   1            3      0      0           0             0\n",
       "4    2022-02-28   1            3      0      0           0             0\n",
       "..          ...  ..          ...    ...    ...         ...           ...\n",
       "995  2022-11-14   2            2      0    143          60            78\n",
       "996  2022-11-15   2            2      0    249          60            78\n",
       "997  2022-11-16   2            2      0    337          60            78\n",
       "998  2022-11-17   2            2      0    446          60            78\n",
       "999  2022-11-18   2            2     50    394          60            78\n",
       "\n",
       "[1000 rows x 7 columns]"
      ]
     },
     "execution_count": 2,
     "metadata": {},
     "output_type": "execute_result"
    }
   ],
   "source": [
    "sales_data=pd.read_csv(\"../../Datasets/sales.csv/sales.csv\")\n",
    "sales_data.describe()\n",
    "sales_data.head(1000)"
   ]
  },
  {
   "cell_type": "markdown",
   "metadata": {},
   "source": [
    "<div>\n",
    "The Data provided is related to Bike prices on a particular date\n",
    "    <ul>\n",
    "        <li>id: Id of the bike</li>\n",
    "        <li>category_id: Category of the bike</li>\n",
    "        <li>sales: How many sold on the particular day</li>\n",
    "        <li>views: How many bikes are viewed that day</li>\n",
    "        <li>price_cost: What is the cost of price</li>\n",
    "        <li>price_retail: What is the retail price for selling</li>\n",
    "    </ul>\n",
    "</div>"
   ]
  },
  {
   "cell_type": "code",
   "execution_count": 4,
   "metadata": {},
   "outputs": [
    {
     "name": "stdout",
     "output_type": "stream",
     "text": [
      "3482\n",
      "4\n"
     ]
    }
   ],
   "source": [
    "print(sales_data.id.unique().size)\n",
    "print(sales_data.category_id.unique().size)"
   ]
  },
  {
   "cell_type": "markdown",
   "metadata": {},
   "source": [
    "<ol>\n",
    "    <li>There are a total of 3482 bikes available</li>\n",
    "    <li>There are 4 categories in which all these 3482 bikes comes under</li>\n",
    "</ol>\n",
    "\n",
    "<b><h4>Question</h4></b>\n",
    "<b>1.Each category has how many bikes, is there any bikes that are part of more than one category</b>\n"
   ]
  },
  {
   "cell_type": "code",
   "execution_count": 5,
   "metadata": {},
   "outputs": [
    {
     "name": "stdout",
     "output_type": "stream",
     "text": [
      "category_id\n",
      "1    1263432\n",
      "2    1076040\n",
      "3     198372\n",
      "4      10980\n",
      "dtype: int64\n"
     ]
    }
   ],
   "source": [
    "sales_data_category_id_grouped=sales_data.groupby('category_id')\n",
    "print(sales_data_category_id_grouped.size())"
   ]
  },
  {
   "cell_type": "code",
   "execution_count": 6,
   "metadata": {},
   "outputs": [],
   "source": [
    "id_cateogory_separateData=[]\n",
    "for i in range(1,5):\n",
    "    id_cateogory_separateData.append(sales_data_category_id_grouped.get_group(i))\n",
    "\n",
    "id_category_1=pd.Series(sales_data.loc[sales_data.category_id==1].id.unique())\n",
    "id_category_2=pd.Series(sales_data.loc[sales_data.category_id==2].id.unique())\n",
    "id_category_3=pd.Series(sales_data.loc[sales_data.category_id==3].id.unique())\n",
    "id_category_4=pd.Series(sales_data.loc[sales_data.category_id==4].id.unique())"
   ]
  },
  {
   "cell_type": "code",
   "execution_count": 7,
   "metadata": {},
   "outputs": [
    {
     "name": "stdout",
     "output_type": "stream",
     "text": [
      "1726\n",
      "1470\n",
      "271\n",
      "15\n",
      "1 2: False:\n",
      "1 3: False:\n",
      "1 4: False:\n",
      "2 3: False:\n",
      "2 4: False:\n",
      "3 4: False:\n"
     ]
    }
   ],
   "source": [
    "for i in id_cateogory_separateData:\n",
    "    print(i.id.unique().size)\n",
    "\n",
    "for i in range(len(id_cateogory_separateData)):\n",
    "    for j in range(i+1,len(id_cateogory_separateData)):\n",
    "        print(\"%d %d: %s\"%(i+1,j+1,True in (id_cateogory_separateData[i].isin(id_cateogory_separateData[j]))),end=\":\")\n",
    "        print('')"
   ]
  },
  {
   "cell_type": "markdown",
   "metadata": {
    "vscode": {
     "languageId": "html"
    }
   },
   "source": [
    "<i><h4>Answer:</h4></i>\n",
    "<i>1. Category_1: 1726, Category_2:1470, Category_3=271, Category_4: 15. And there are no bikes that belongs to more than one Category</i>\n",
    "\n",
    "Category 3 and 4 has very less bikes compared to 1 and 2"
   ]
  },
  {
   "cell_type": "markdown",
   "metadata": {},
   "source": [
    "<b><h4>Question</h4></b>\n",
    "<b>Identify Which group has the highest sales and which group has the lowest sales</b>"
   ]
  },
  {
   "cell_type": "code",
   "execution_count": 8,
   "metadata": {},
   "outputs": [
    {
     "name": "stdout",
     "output_type": "stream",
     "text": [
      "1 sales count:127308\n",
      "2 sales count:743416\n",
      "3 sales count:73233\n",
      "4 sales count:656\n",
      "1 views count:53906343\n",
      "2 views count:34839778\n",
      "3 views count:8343857\n",
      "4 views count:405849\n"
     ]
    }
   ],
   "source": [
    "for i in range(1,5):\n",
    "    print(\"%d sales count:%d\"%(i,id_cateogory_separateData[i-1].sales.sum()))\n",
    "\n",
    "for i in range(1,5):\n",
    "    print(\"%d views count:%d\"%(i,id_cateogory_separateData[i-1].views.sum()))\n"
   ]
  },
  {
   "cell_type": "markdown",
   "metadata": {},
   "source": [
    "Category 2 has the highest sales and category 4 has the least sales\n",
    "Category 1 has the highest views and category 4 has the lowest views"
   ]
  },
  {
   "cell_type": "code",
   "execution_count": 9,
   "metadata": {},
   "outputs": [
    {
     "name": "stdout",
     "output_type": "stream",
     "text": [
      "Min Date: 2022-02-24\n",
      "Max Date: 2024-02-25\n",
      "Date Data Description:\n",
      "count        2548824\n",
      "unique           732\n",
      "top       2022-02-24\n",
      "freq            3482\n",
      "Name: date, dtype: object\n"
     ]
    }
   ],
   "source": [
    "print(\"Min Date: %s\"%(sales_data.date.min()))\n",
    "print(\"Max Date: %s\"%(sales_data.date.max()))\n",
    "print(\"Date Data Description:\")\n",
    "print(sales_data.date.describe())"
   ]
  },
  {
   "cell_type": "markdown",
   "metadata": {},
   "source": [
    "# Filtered Data Section"
   ]
  },
  {
   "cell_type": "code",
   "execution_count": 10,
   "metadata": {},
   "outputs": [
    {
     "data": {
      "text/plain": [
       "id\n",
       "796     732\n",
       "898     732\n",
       "905     732\n",
       "904     732\n",
       "903     732\n",
       "       ... \n",
       "1520      7\n",
       "1316      6\n",
       "2798      6\n",
       "288       5\n",
       "3000      5\n",
       "Name: count, Length: 3463, dtype: int64"
      ]
     },
     "execution_count": 10,
     "metadata": {},
     "output_type": "execute_result"
    }
   ],
   "source": [
    "filtered_data=sales_data[sales_data['price_cost']!=0]\n",
    "filtered_data.head()\n",
    "filtered_data.id.value_counts()"
   ]
  },
  {
   "cell_type": "code",
   "execution_count": 11,
   "metadata": {},
   "outputs": [
    {
     "name": "stdout",
     "output_type": "stream",
     "text": [
      "category_id\n",
      "1    158951\n",
      "2     39900\n",
      "3      4489\n",
      "4    292573\n",
      "Name: price_cost, dtype: int64\n"
     ]
    }
   ],
   "source": [
    "filtered_data_by_category=filtered_data.groupby('category_id')\n",
    "print(filtered_data_by_category['price_cost'].max())"
   ]
  },
  {
   "cell_type": "code",
   "execution_count": 12,
   "metadata": {},
   "outputs": [],
   "source": [
    "filtered_data.sort_values(by='price_cost',ascending=False).head()\n",
    "filtered_unique_data=filtered_data.drop_duplicates()"
   ]
  }
 ],
 "metadata": {
  "kernelspec": {
   "display_name": "coding-practise",
   "language": "python",
   "name": "python3"
  },
  "language_info": {
   "codemirror_mode": {
    "name": "ipython",
    "version": 3
   },
   "file_extension": ".py",
   "mimetype": "text/x-python",
   "name": "python",
   "nbconvert_exporter": "python",
   "pygments_lexer": "ipython3",
   "version": "3.12.2"
  }
 },
 "nbformat": 4,
 "nbformat_minor": 2
}
